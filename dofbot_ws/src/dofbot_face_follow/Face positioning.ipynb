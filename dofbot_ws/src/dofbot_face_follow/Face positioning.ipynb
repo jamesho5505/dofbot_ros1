{
 "cells": [
  {
   "cell_type": "code",
   "execution_count": 1,
   "metadata": {},
   "outputs": [],
   "source": [
    "import cv2 as cv\n",
    "import threading\n",
    "from time import sleep\n",
    "import ipywidgets as widgets\n",
    "from IPython.display import display\n",
    "from face_pose import face_follow"
   ]
  },
  {
   "cell_type": "code",
   "execution_count": 2,
   "metadata": {},
   "outputs": [],
   "source": [
    "import Arm_Lib\n",
    "Arm = Arm_Lib.Arm_Device()\n",
    "joints_0 = [90, 135, 20, 25, 90, 30]\n",
    "Arm.Arm_serial_servo_write6_array(joints_0, 1000)"
   ]
  },
  {
   "cell_type": "code",
   "execution_count": 3,
   "metadata": {},
   "outputs": [],
   "source": [
    "follow = face_follow()\n",
    "model = 'General'"
   ]
  },
  {
   "cell_type": "code",
   "execution_count": 4,
   "metadata": {},
   "outputs": [],
   "source": [
    "button_layout = widgets.Layout(width='250px', height='50px', align_self='center')\n",
    "output = widgets.Output()\n",
    "# 退出控件 exit button\n",
    "exit_button = widgets.Button(description='Exit', button_style='danger', layout=button_layout)\n",
    "# 图像控件 Image widget\n",
    "imgbox = widgets.Image(format='jpg', height=480, width=640, layout=widgets.Layout(align_self='center'))\n",
    "# 空间布局 spatial distribution\n",
    "controls_box = widgets.VBox([imgbox, exit_button], layout=widgets.Layout(align_self='center'))\n",
    "# ['auto', 'flex-start', 'flex-end', 'center', 'baseline', 'stretch', 'inherit', 'initial', 'un"
   ]
  },
  {
   "cell_type": "code",
   "execution_count": 5,
   "metadata": {},
   "outputs": [],
   "source": [
    "def exit_button_Callback(value):\n",
    "    global model\n",
    "    model = 'Exit'\n",
    "#     with output: print(model)\n",
    "exit_button.on_click(exit_button_Callback)"
   ]
  },
  {
   "cell_type": "code",
   "execution_count": 6,
   "metadata": {},
   "outputs": [],
   "source": [
    "def camera():\n",
    "    global model\n",
    "    # 打开摄像头 Open camera\n",
    "    capture = cv.VideoCapture(0)\n",
    "    while capture.isOpened():\n",
    "        try:\n",
    "            _, img = capture.read()\n",
    "            img = cv.resize(img, (640, 480))\n",
    "            img = follow.follow_function(img)\n",
    "            if model == 'Exit':\n",
    "                cv.destroyAllWindows()\n",
    "                capture.release()\n",
    "                break\n",
    "            imgbox.value = cv.imencode('.jpg', img)[1].tobytes()\n",
    "        except KeyboardInterrupt:capture.release()"
   ]
  },
  {
   "cell_type": "code",
   "execution_count": 7,
   "metadata": {},
   "outputs": [
    {
     "data": {
      "application/vnd.jupyter.widget-view+json": {
       "model_id": "830637b3dd1448248295302e9f4f8dfc",
       "version_major": 2,
       "version_minor": 0
      },
      "text/plain": [
       "VBox(children=(Image(value=b'', format='jpg', height='480', layout=\"Layout(align_self='center')\", width='640')…"
      ]
     },
     "metadata": {},
     "output_type": "display_data"
    },
    {
     "data": {
      "application/vnd.jupyter.widget-view+json": {
       "model_id": "e0325c5fb4e44492a5a2323ecce4e298",
       "version_major": 2,
       "version_minor": 0
      },
      "text/plain": [
       "Output()"
      ]
     },
     "metadata": {},
     "output_type": "display_data"
    },
    {
     "name": "stdout",
     "output_type": "stream",
     "text": [
      "x=  142.5\n",
      "y=  142.5\n",
      "x=  157.5\n",
      "y=  146.5\n",
      "x=  181.0\n",
      "y=  150.0\n",
      "x=  202.5\n",
      "y=  148.5\n",
      "x=  219.0\n",
      "y=  147.0\n",
      "x=  223.5\n",
      "y=  146.5\n",
      "x=  236.0\n",
      "y=  147.0\n",
      "x=  245.0\n",
      "y=  148.0\n",
      "x=  256.5\n",
      "y=  152.5\n",
      "x=  263.5\n",
      "y=  152.5\n",
      "x=  262.5\n",
      "y=  153.5\n",
      "x=  271.0\n",
      "y=  156.0\n",
      "x=  278.0\n",
      "y=  153.0\n",
      "x=  276.0\n",
      "y=  151.0\n",
      "x=  272.0\n",
      "y=  150.0\n",
      "x=  270.0\n",
      "y=  150.0\n",
      "x=  265.0\n",
      "y=  150.0\n",
      "x=  267.0\n",
      "y=  151.0\n",
      "x=  263.0\n",
      "y=  148.0\n",
      "x=  262.0\n",
      "y=  152.0\n",
      "x=  263.0\n",
      "y=  154.0\n",
      "x=  257.0\n",
      "y=  156.0\n",
      "x=  250.0\n",
      "y=  158.0\n",
      "x=  248.5\n",
      "y=  155.5\n",
      "x=  247.0\n",
      "y=  160.0\n",
      "x=  239.5\n",
      "y=  162.5\n",
      "x=  224.0\n",
      "y=  166.0\n",
      "x=  195.5\n",
      "y=  164.5\n",
      "x=  174.5\n",
      "y=  165.5\n",
      "x=  53.5\n",
      "y=  205.5\n"
     ]
    }
   ],
   "source": [
    "display(controls_box,output)\n",
    "threading.Thread(target=camera, ).start()"
   ]
  },
  {
   "cell_type": "code",
   "execution_count": null,
   "metadata": {},
   "outputs": [],
   "source": []
  }
 ],
 "metadata": {
  "kernelspec": {
   "display_name": "Python 3 (ipykernel)",
   "language": "python",
   "name": "python3"
  },
  "language_info": {
   "codemirror_mode": {
    "name": "ipython",
    "version": 3
   },
   "file_extension": ".py",
   "mimetype": "text/x-python",
   "name": "python",
   "nbconvert_exporter": "python",
   "pygments_lexer": "ipython3",
   "version": "3.8.0"
  }
 },
 "nbformat": 4,
 "nbformat_minor": 4
}
