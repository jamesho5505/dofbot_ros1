{
 "cells": [
  {
   "cell_type": "code",
   "execution_count": 1,
   "id": "212f02dd",
   "metadata": {},
   "outputs": [],
   "source": [
    "import cv2 as cv\n",
    "import threading\n",
    "from time import sleep\n",
    "import ipywidgets as widgets\n",
    "from IPython.display import display\n",
    "from face_pose import face_follow"
   ]
  },
  {
   "cell_type": "code",
   "execution_count": 2,
   "id": "dfb50386-c01d-4321-9faa-0f9a5fed2639",
   "metadata": {},
   "outputs": [],
   "source": [
    "import Arm_Lib\n",
    "Arm = Arm_Lib.Arm_Device()\n",
    "joints_0 = [90, 135, 20, 25, 90, 30]\n",
    "Arm.Arm_serial_servo_write6_array(joints_0, 1000)"
   ]
  },
  {
   "cell_type": "code",
   "execution_count": 3,
   "id": "b9a37470",
   "metadata": {},
   "outputs": [],
   "source": [
    "follow = face_follow()\n",
    "model = 'General'"
   ]
  },
  {
   "cell_type": "code",
   "execution_count": 4,
   "id": "9a9f487a",
   "metadata": {},
   "outputs": [],
   "source": [
    "button_layout = widgets.Layout(width='250px', height='50px', align_self='center')\n",
    "output = widgets.Output()\n",
    "# 退出控件 exit button\n",
    "exit_button = widgets.Button(description='Exit', button_style='danger', layout=button_layout)\n",
    "# 图像控件 Image widget\n",
    "imgbox = widgets.Image(format='jpg', height=480, width=640, layout=widgets.Layout(align_self='center'))\n",
    "# 空间布局 spatial distribution\n",
    "controls_box = widgets.VBox([imgbox, exit_button], layout=widgets.Layout(align_self='center'))\n",
    "# ['auto', 'flex-start', 'flex-end', 'center', 'baseline', 'stretch', 'inherit', 'initial', 'un"
   ]
  },
  {
   "cell_type": "code",
   "execution_count": 5,
   "id": "d8d2f476",
   "metadata": {},
   "outputs": [],
   "source": [
    "def exit_button_Callback(value):\n",
    "    global model\n",
    "    model = 'Exit'\n",
    "#     with output: print(model)\n",
    "exit_button.on_click(exit_button_Callback)"
   ]
  },
  {
   "cell_type": "code",
   "execution_count": 6,
   "id": "e6acd7d5",
   "metadata": {},
   "outputs": [],
   "source": [
    "def camera():\n",
    "    global model\n",
    "    # 打开摄像头 Open camera\n",
    "    capture = cv.VideoCapture(0)\n",
    "    while capture.isOpened():\n",
    "        try:\n",
    "            _, img = capture.read()\n",
    "            img = cv.resize(img, (640, 480))\n",
    "            img = follow.follow_function(img)\n",
    "            if model == 'Exit':\n",
    "                cv.destroyAllWindows()\n",
    "                capture.release()\n",
    "                break\n",
    "            imgbox.value = cv.imencode('.jpg', img)[1].tobytes()\n",
    "        except KeyboardInterrupt:capture.release()"
   ]
  },
  {
   "cell_type": "code",
   "execution_count": 7,
   "id": "617d7527",
   "metadata": {},
   "outputs": [
    {
     "data": {
      "application/vnd.jupyter.widget-view+json": {
       "model_id": "e5e5bdd723ac41a98e1736389b9a06ed",
       "version_major": 2,
       "version_minor": 0
      },
      "text/plain": [
       "VBox(children=(Image(value=b'', format='jpg', height='480', layout=\"Layout(align_self='center')\", width='640')…"
      ]
     },
     "metadata": {},
     "output_type": "display_data"
    },
    {
     "data": {
      "application/vnd.jupyter.widget-view+json": {
       "model_id": "0a300f10d0fa422591dc09e157c4377e",
       "version_major": 2,
       "version_minor": 0
      },
      "text/plain": [
       "Output()"
      ]
     },
     "metadata": {},
     "output_type": "display_data"
    },
    {
     "name": "stdout",
     "output_type": "stream",
     "text": [
      "x=  167.0\n",
      "y=  107.0\n",
      "x=  210.0\n",
      "y=  117.0\n",
      "x=  231.0\n",
      "y=  115.0\n",
      "x=  229.0\n",
      "y=  122.0\n",
      "x=  234.5\n",
      "y=  122.5\n",
      "x=  236.5\n",
      "y=  132.5\n",
      "x=  242.0\n",
      "y=  136.0\n",
      "x=  247.0\n",
      "y=  135.0\n",
      "x=  259.5\n",
      "y=  133.5\n",
      "x=  263.0\n",
      "y=  132.0\n",
      "x=  266.0\n",
      "y=  133.0\n",
      "x=  262.5\n",
      "y=  132.5\n",
      "x=  263.0\n",
      "y=  136.0\n",
      "x=  267.0\n",
      "y=  142.0\n",
      "x=  269.0\n",
      "y=  144.0\n",
      "x=  266.0\n",
      "y=  145.0\n",
      "x=  257.0\n",
      "y=  181.0\n",
      "x=  258.0\n",
      "y=  180.0\n",
      "x=  267.0\n",
      "y=  142.0\n",
      "x=  270.0\n",
      "y=  142.0\n",
      "x=  271.0\n",
      "y=  142.0\n",
      "x=  271.0\n",
      "y=  142.0\n",
      "x=  263.0\n",
      "y=  142.0\n",
      "x=  262.0\n",
      "y=  146.0\n",
      "x=  260.0\n",
      "y=  144.0\n",
      "x=  253.0\n",
      "y=  148.0\n",
      "x=  256.0\n",
      "y=  147.0\n",
      "x=  252.0\n",
      "y=  150.0\n",
      "x=  243.0\n",
      "y=  146.0\n",
      "x=  236.0\n",
      "y=  144.0\n",
      "x=  235.0\n",
      "y=  137.0\n"
     ]
    }
   ],
   "source": [
    "display(controls_box,output)\n",
    "threading.Thread(target=camera, ).start()"
   ]
  },
  {
   "cell_type": "code",
   "execution_count": null,
   "id": "2b08d6f4",
   "metadata": {},
   "outputs": [],
   "source": []
  },
  {
   "cell_type": "code",
   "execution_count": null,
   "id": "7efba670",
   "metadata": {},
   "outputs": [],
   "source": []
  }
 ],
 "metadata": {
  "kernelspec": {
   "display_name": "Python 3 (ipykernel)",
   "language": "python",
   "name": "python3"
  },
  "language_info": {
   "codemirror_mode": {
    "name": "ipython",
    "version": 3
   },
   "file_extension": ".py",
   "mimetype": "text/x-python",
   "name": "python",
   "nbconvert_exporter": "python",
   "pygments_lexer": "ipython3",
   "version": "3.8.0"
  }
 },
 "nbformat": 4,
 "nbformat_minor": 5
}
