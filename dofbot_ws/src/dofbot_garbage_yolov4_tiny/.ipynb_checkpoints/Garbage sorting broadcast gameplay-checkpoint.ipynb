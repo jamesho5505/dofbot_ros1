{
 "cells": [
  {
   "cell_type": "markdown",
   "metadata": {},
   "source": [
    "# 垃圾分拣播报玩法\n",
    "# Garbage sorting broadcast gameplay"
   ]
  },
  {
   "cell_type": "markdown",
   "metadata": {},
   "source": [
    "### 导入头文件\n",
    "### Import header file"
   ]
  },
  {
   "cell_type": "code",
   "execution_count": null,
   "metadata": {},
   "outputs": [],
   "source": [
    "#!/usr/bin/env python\n",
    "# coding: utf-8\n",
    "import Arm_Lib\n",
    "import cv2 as cv\n",
    "import threading\n",
    "from time import sleep\n",
    "import ipywidgets as widgets\n",
    "from IPython.display import display\n",
    "from speech_garbage_identify import speech_garbage_identify"
   ]
  },
  {
   "cell_type": "markdown",
   "metadata": {},
   "source": [
    "### 创建实例,初始化参数\n",
    "### Create instance, initialize parameters"
   ]
  },
  {
   "cell_type": "code",
   "execution_count": null,
   "metadata": {},
   "outputs": [],
   "source": [
    "# 创建获取目标实例#Create a target instance\n",
    "single_garbage = speech_garbage_identify()\n",
    "# 初始化模式#Initialization mode\n",
    "model = \"General\""
   ]
  },
  {
   "cell_type": "markdown",
   "metadata": {},
   "source": [
    "### 初始化机械臂位置\n",
    "### Initialize the robot arm position"
   ]
  },
  {
   "cell_type": "code",
   "execution_count": null,
   "metadata": {},
   "outputs": [],
   "source": [
    "import Arm_Lib\n",
    "arm = Arm_Lib.Arm_Device()\n",
    "joints_0 = [90, 90, 20, 15, 90, 30]\n",
    "arm.Arm_serial_servo_write6_array(joints_0, 1000)"
   ]
  },
  {
   "cell_type": "markdown",
   "metadata": {},
   "source": [
    "### 创建控件\n",
    "### Create controls"
   ]
  },
  {
   "cell_type": "code",
   "execution_count": null,
   "metadata": {},
   "outputs": [],
   "source": [
    "button_layout      = widgets.Layout(width='320px', height='60px', align_self='center')\n",
    "output = widgets.Output()\n",
    "# 退出\n",
    "exit_button = widgets.Button(description='Exit', button_style='danger', layout=button_layout)\n",
    "imgbox = widgets.Image(format='jpg', height=480, width=640, layout=widgets.Layout(align_self='center'))\n",
    "controls_box = widgets.VBox([imgbox, exit_button], layout=widgets.Layout(align_self='center'))"
   ]
  },
  {
   "cell_type": "markdown",
   "metadata": {},
   "source": [
    "### 退出模式控件\n",
    "### Exit modal control"
   ]
  },
  {
   "cell_type": "code",
   "execution_count": null,
   "metadata": {},
   "outputs": [],
   "source": [
    "def exit_button_Callback(value):\n",
    "    global model\n",
    "    model = 'Exit'\n",
    "    with output: print(model)\n",
    "exit_button.on_click(exit_button_Callback)"
   ]
  },
  {
   "cell_type": "markdown",
   "metadata": {},
   "source": [
    "### 主程序\n",
    "### Main program"
   ]
  },
  {
   "cell_type": "code",
   "execution_count": null,
   "metadata": {},
   "outputs": [],
   "source": [
    "def camera():\n",
    "    # 打开摄像头#Open camera\n",
    "    capture = cv.VideoCapture(0)\n",
    "    # 当摄像头正常打开的情况下循环执行# Loop execution when the camera is turned on normally\n",
    "    while capture.isOpened():\n",
    "        try:\n",
    "            # 读取相机的每一帧# Read each frame of the camera\n",
    "            _, img = capture.read()\n",
    "            # 统一图像大小# Unify image size\n",
    "            img = cv.resize(img, (640, 480))\n",
    "            img = single_garbage.single_garbage_run(img)\n",
    "            if model == 'Exit':\n",
    "                cv.destroyAllWindows()\n",
    "                capture.release()\n",
    "                break\n",
    "            imgbox.value = cv.imencode('.jpg', img)[1].tobytes()\n",
    "        except KeyboardInterrupt:capture.release()"
   ]
  },
  {
   "cell_type": "markdown",
   "metadata": {},
   "source": [
    "### 启动\n",
    "### start up"
   ]
  },
  {
   "cell_type": "code",
   "execution_count": null,
   "metadata": {},
   "outputs": [],
   "source": [
    "display(controls_box,output)\n",
    "threading.Thread(target=camera, ).start()"
   ]
  },
  {
   "cell_type": "code",
   "execution_count": null,
   "metadata": {},
   "outputs": [],
   "source": []
  }
 ],
 "metadata": {
  "kernelspec": {
   "display_name": "Python 3",
   "language": "python",
   "name": "python3"
  },
  "language_info": {
   "codemirror_mode": {
    "name": "ipython",
    "version": 3
   },
   "file_extension": ".py",
   "mimetype": "text/x-python",
   "name": "python",
   "nbconvert_exporter": "python",
   "pygments_lexer": "ipython3",
   "version": "3.8.10"
  }
 },
 "nbformat": 4,
 "nbformat_minor": 4
}
