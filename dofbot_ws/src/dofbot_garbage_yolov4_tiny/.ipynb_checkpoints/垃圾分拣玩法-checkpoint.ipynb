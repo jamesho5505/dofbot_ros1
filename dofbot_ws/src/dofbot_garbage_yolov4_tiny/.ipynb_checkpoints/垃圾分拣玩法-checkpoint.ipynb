{
 "cells": [
  {
   "cell_type": "markdown",
   "metadata": {},
   "source": [
    "# 垃圾分拣玩法"
   ]
  },
  {
   "cell_type": "markdown",
   "metadata": {},
   "source": [
    "### 导入头文件"
   ]
  },
  {
   "cell_type": "code",
   "execution_count": null,
   "metadata": {},
   "outputs": [],
   "source": [
    "#!/usr/bin/env python\n",
    "# coding: utf-8\n",
    "import Arm_Lib\n",
    "import cv2 as cv\n",
    "import threading\n",
    "from time import sleep\n",
    "from dofbot_config import *\n",
    "import ipywidgets as widgets\n",
    "from IPython.display import display\n",
    "from garbage_identify import garbage_identify"
   ]
  },
  {
   "cell_type": "markdown",
   "metadata": {},
   "source": [
    "### 创建实例,初始化参数"
   ]
  },
  {
   "cell_type": "code",
   "execution_count": null,
   "metadata": {},
   "outputs": [],
   "source": [
    "# 创建获取目标实例\n",
    "target = garbage_identify()\n",
    "# 创建相机标定实例\n",
    "calibration = Arm_Calibration()\n",
    "# 创建机械臂驱动实例\n",
    "arm = Arm_Lib.Arm_Device()\n",
    "# 初始化一些参数\n",
    "num=0\n",
    "# 初始化标定方框边点\n",
    "dp = []\n",
    "# 初始化抓取信息\n",
    "msg = {}\n",
    "# 初始化1,2舵机角度值\n",
    "xy = [90, 135]\n",
    "# 初始化二值图阈值\n",
    "threshold = 140\n",
    "# 初始化模式\n",
    "model = \"General\"\n",
    "# XYT参数路径\n",
    "XYT_path=\"/root/dofbot_ws/src/dofbot_garbage_yolov4_tiny/XYT_config.txt\"\n",
    "try: xy, thresh = read_XYT(XYT_path)\n",
    "except Exception: print(\"Read XYT_config Error !!!\")"
   ]
  },
  {
   "cell_type": "markdown",
   "metadata": {},
   "source": [
    "### 初始化机械臂位置"
   ]
  },
  {
   "cell_type": "code",
   "execution_count": null,
   "metadata": {},
   "outputs": [],
   "source": [
    "import Arm_Lib\n",
    "arm = Arm_Lib.Arm_Device()\n",
    "joints_0 = [xy[0], xy[1], 0, 0, 90, 30]\n",
    "arm.Arm_serial_servo_write6_array(joints_0, 1000)"
   ]
  },
  {
   "cell_type": "markdown",
   "metadata": {},
   "source": [
    "### 创建控件"
   ]
  },
  {
   "cell_type": "code",
   "execution_count": null,
   "metadata": {},
   "outputs": [],
   "source": [
    "button_layout      = widgets.Layout(width='320px', height='60px', align_self='center')\n",
    "output = widgets.Output()\n",
    "# 调整滑杆\n",
    "joint1_slider      = widgets.IntSlider(description='joint1 :'   ,    value=xy[0]     , min=70 , max=110, step=1, orientation='horizontal')\n",
    "joint2_slider      = widgets.IntSlider(description='joint2 :'   ,    value=xy[1]     , min=115, max=155, step=1, orientation='horizontal')\n",
    "threshold_slider   = widgets.IntSlider(description='threshold :',    value=threshold , min=0  , max=255, step=1, orientation='horizontal')\n",
    "\n",
    "# 进入标定模式\n",
    "calibration_model  = widgets.Button(description='calibration_model',  button_style='primary', layout=button_layout)\n",
    "calibration_ok     = widgets.Button(description='calibration_ok',     button_style='success', layout=button_layout)\n",
    "calibration_cancel = widgets.Button(description='calibration_cancel', button_style='danger', layout=button_layout)\n",
    "\n",
    "# 目标检测抓取\n",
    "target_detection   = widgets.Button(description='target_detection', button_style='info', layout=button_layout)\n",
    "grap = widgets.Button(description='grap', button_style='success', layout=button_layout)\n",
    "# 退出\n",
    "exit_button = widgets.Button(description='Exit', button_style='danger', layout=button_layout)\n",
    "imgbox = widgets.Image(format='jpg', height=480, width=640, layout=widgets.Layout(align_self='center'))\n",
    "garbage_identify = widgets.VBox(\n",
    "    [joint1_slider, joint2_slider, threshold_slider, calibration_model, calibration_ok, calibration_cancel, target_detection, grap,exit_button],\n",
    "    layout=widgets.Layout(align_self='center'));\n",
    "controls_box = widgets.HBox([imgbox, garbage_identify], layout=widgets.Layout(align_self='center'))"
   ]
  },
  {
   "cell_type": "markdown",
   "metadata": {},
   "source": [
    "### 标定回调"
   ]
  },
  {
   "cell_type": "code",
   "execution_count": null,
   "metadata": {},
   "outputs": [],
   "source": [
    "# 标定回调\n",
    "def calibration_model_Callback(value):\n",
    "    global model\n",
    "    model = 'Calibration'\n",
    "    with output: print(model)\n",
    "def calibration_OK_Callback(value):\n",
    "    global model\n",
    "    model = 'calibration_OK'\n",
    "    with output: print(model)\n",
    "def calibration_cancel_Callback(value):\n",
    "    global model\n",
    "    model = 'calibration_Cancel'\n",
    "    with output: print(model)\n",
    "calibration_model.on_click(calibration_model_Callback)\n",
    "calibration_ok.on_click(calibration_OK_Callback)\n",
    "calibration_cancel.on_click(calibration_cancel_Callback)"
   ]
  },
  {
   "cell_type": "markdown",
   "metadata": {},
   "source": [
    "### 抓取控制"
   ]
  },
  {
   "cell_type": "code",
   "execution_count": null,
   "metadata": {},
   "outputs": [],
   "source": [
    "# 抓取控制\n",
    "def target_detection_Callback(value):\n",
    "    global model\n",
    "    model = 'Detection'\n",
    "    with output: print(model)\n",
    "def grap_Callback(value):\n",
    "    global model\n",
    "    model = 'Grap'\n",
    "    with output: print(model)\n",
    "def exit_button_Callback(value):\n",
    "    global model\n",
    "    model = 'Exit'\n",
    "    with output: print(model)\n",
    "target_detection.on_click(target_detection_Callback)\n",
    "grap.on_click(grap_Callback)\n",
    "exit_button.on_click(exit_button_Callback)"
   ]
  },
  {
   "cell_type": "markdown",
   "metadata": {},
   "source": [
    "### 主程序"
   ]
  },
  {
   "cell_type": "code",
   "execution_count": null,
   "metadata": {},
   "outputs": [],
   "source": [
    "def camera():\n",
    "    global color_hsv,model,dp,msg,color_list,HSV_name\n",
    "    # 打开摄像头\n",
    "    capture = cv.VideoCapture(0)\n",
    "    # 当摄像头正常打开的情况下循环执行\n",
    "    while capture.isOpened():\n",
    "        try:\n",
    "            # 读取相机的每一帧\n",
    "            _, img = capture.read()\n",
    "            # 统一图像大小\n",
    "            img = cv.resize(img, (640, 480))\n",
    "            xy=[joint1_slider.value,joint2_slider.value]\n",
    "            if model == 'Calibration':\n",
    "                _, img = calibration.calibration_map(img,xy,threshold_slider.value)\n",
    "            if model == 'calibration_OK':\n",
    "                try: write_XYT(XYT_path,xy, threshold_slider.value)\n",
    "                except Exception: print(\"File XYT_config Error !!!\")\n",
    "                dp, img = calibration.calibration_map(img,xy,threshold_slider.value)\n",
    "                model=\"General\"\n",
    "            if len(dp) != 0: img = calibration.Perspective_transform(dp, img)\n",
    "            if model == 'calibration_Cancel':  \n",
    "                dp = []\n",
    "                msg= {}\n",
    "                model=\"General\"\n",
    "            if len(dp)!= 0 and  model == 'Detection': img, msg = target.garbage_run(img)\n",
    "            if len(msg)!= 0 and model == 'Grap':\n",
    "                threading.Thread(target=target.garbage_grap, args=(msg, xy,)).start()\n",
    "                msg={}\n",
    "                model=\"Detection\"\n",
    "            if model == 'Exit':\n",
    "                cv.destroyAllWindows()\n",
    "                capture.release()\n",
    "                break\n",
    "            imgbox.value = cv.imencode('.jpg', img)[1].tobytes()\n",
    "        except KeyboardInterrupt:capture.release()"
   ]
  },
  {
   "cell_type": "markdown",
   "metadata": {},
   "source": [
    "### 启动"
   ]
  },
  {
   "cell_type": "code",
   "execution_count": null,
   "metadata": {},
   "outputs": [],
   "source": [
    "display(controls_box,output)\n",
    "threading.Thread(target=camera, ).start()"
   ]
  },
  {
   "cell_type": "code",
   "execution_count": null,
   "metadata": {},
   "outputs": [],
   "source": []
  }
 ],
 "metadata": {
  "kernelspec": {
   "display_name": "Python 3 (ipykernel)",
   "language": "python",
   "name": "python3"
  },
  "language_info": {
   "codemirror_mode": {
    "name": "ipython",
    "version": 3
   },
   "file_extension": ".py",
   "mimetype": "text/x-python",
   "name": "python",
   "nbconvert_exporter": "python",
   "pygments_lexer": "ipython3",
   "version": "3.8.0"
  }
 },
 "nbformat": 4,
 "nbformat_minor": 4
}
