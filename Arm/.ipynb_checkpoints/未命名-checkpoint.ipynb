{
 "cells": [
  {
   "cell_type": "code",
   "execution_count": 25,
   "metadata": {},
   "outputs": [
    {
     "name": "stdout",
     "output_type": "stream",
     "text": [
      "/home/jetson/Arm/config.ini\n"
     ]
    }
   ],
   "source": [
    "import configparser\n",
    "import os\n",
    "# 获取token写入配置文件\n",
    "base_dir = str(os.getcwd())\n",
    "base_dir = base_dir.replace('\\\\', '/')\n",
    "file_path = base_dir + \"/config.ini\"\n",
    "print(file_path)\n",
    "\n",
    "\n"
   ]
  },
  {
   "cell_type": "code",
   "execution_count": 26,
   "metadata": {},
   "outputs": [],
   "source": [
    "\n",
    "# 写token\n",
    "config = configparser.ConfigParser()\n",
    "config.add_section(\"token\")\n",
    "config.set('token', 'cookies', \"cookies11111\")\n",
    "with open(file_path, 'w')as conf:\n",
    "    config.write(conf)"
   ]
  },
  {
   "cell_type": "code",
   "execution_count": 27,
   "metadata": {},
   "outputs": [
    {
     "name": "stdout",
     "output_type": "stream",
     "text": [
      "No g_calibrateThreshold moren:\n",
      "140\n",
      "No data1 moren:\n",
      "[90, 135]\n",
      "No data2 moren\n",
      "[0, 150, 160, 10, 255, 255]\n",
      "No data3 moren\n",
      "[53, 80, 36, 80, 255, 160]\n",
      "No data4 moren\n",
      "[116, 124, 100, 130, 255, 255]\n",
      "No data5 moren\n",
      "[53, 80, 36, 80, 255, 160]\n"
     ]
    },
    {
     "ename": "NoSectionError",
     "evalue": "No section: 'calibrateThreshold'",
     "output_type": "error",
     "traceback": [
      "\u001b[0;31m---------------------------------------------------------------------------\u001b[0m",
      "\u001b[0;31mNoSectionError\u001b[0m                            Traceback (most recent call last)",
      "\u001b[0;32m<ipython-input-27-6692b94831e1>\u001b[0m in \u001b[0;36m<module>\u001b[0;34m\u001b[0m\n\u001b[1;32m     74\u001b[0m \u001b[0;34m\u001b[0m\u001b[0m\n\u001b[1;32m     75\u001b[0m \u001b[0;34m\u001b[0m\u001b[0m\n\u001b[0;32m---> 76\u001b[0;31m \u001b[0mcf\u001b[0m\u001b[0;34m.\u001b[0m\u001b[0mset\u001b[0m\u001b[0;34m(\u001b[0m\u001b[0;34m'calibrateThreshold'\u001b[0m\u001b[0;34m,\u001b[0m \u001b[0;34m'g_calibrateThreshold'\u001b[0m\u001b[0;34m,\u001b[0m \u001b[0;34m'140'\u001b[0m\u001b[0;34m)\u001b[0m\u001b[0;34m\u001b[0m\u001b[0;34m\u001b[0m\u001b[0m\n\u001b[0m\u001b[1;32m     77\u001b[0m \u001b[0mcf\u001b[0m\u001b[0;34m.\u001b[0m\u001b[0mset\u001b[0m\u001b[0;34m(\u001b[0m\u001b[0;34m'calibrateXY'\u001b[0m\u001b[0;34m,\u001b[0m \u001b[0;34m'g_calibrateXY'\u001b[0m\u001b[0;34m,\u001b[0m \u001b[0mstr\u001b[0m\u001b[0;34m(\u001b[0m\u001b[0;34m\", \"\u001b[0m\u001b[0;34m.\u001b[0m\u001b[0mjoin\u001b[0m\u001b[0;34m(\u001b[0m\u001b[0mrepr\u001b[0m\u001b[0;34m(\u001b[0m\u001b[0me\u001b[0m\u001b[0;34m)\u001b[0m \u001b[0;32mfor\u001b[0m \u001b[0me\u001b[0m \u001b[0;32min\u001b[0m \u001b[0mg_calibrateXY\u001b[0m\u001b[0;34m)\u001b[0m\u001b[0;34m)\u001b[0m\u001b[0;34m)\u001b[0m\u001b[0;34m\u001b[0m\u001b[0;34m\u001b[0m\u001b[0m\n\u001b[1;32m     78\u001b[0m  \u001b[0;31m#写入配置文件HSV\u001b[0m\u001b[0;34m\u001b[0m\u001b[0;34m\u001b[0m\u001b[0;34m\u001b[0m\u001b[0m\n",
      "\u001b[0;32m/usr/lib/python3.6/configparser.py\u001b[0m in \u001b[0;36mset\u001b[0;34m(self, section, option, value)\u001b[0m\n\u001b[1;32m   1191\u001b[0m         interpolation syntax on the value.\"\"\"\n\u001b[1;32m   1192\u001b[0m         \u001b[0mself\u001b[0m\u001b[0;34m.\u001b[0m\u001b[0m_validate_value_types\u001b[0m\u001b[0;34m(\u001b[0m\u001b[0moption\u001b[0m\u001b[0;34m=\u001b[0m\u001b[0moption\u001b[0m\u001b[0;34m,\u001b[0m \u001b[0mvalue\u001b[0m\u001b[0;34m=\u001b[0m\u001b[0mvalue\u001b[0m\u001b[0;34m)\u001b[0m\u001b[0;34m\u001b[0m\u001b[0;34m\u001b[0m\u001b[0m\n\u001b[0;32m-> 1193\u001b[0;31m         \u001b[0msuper\u001b[0m\u001b[0;34m(\u001b[0m\u001b[0;34m)\u001b[0m\u001b[0;34m.\u001b[0m\u001b[0mset\u001b[0m\u001b[0;34m(\u001b[0m\u001b[0msection\u001b[0m\u001b[0;34m,\u001b[0m \u001b[0moption\u001b[0m\u001b[0;34m,\u001b[0m \u001b[0mvalue\u001b[0m\u001b[0;34m)\u001b[0m\u001b[0;34m\u001b[0m\u001b[0;34m\u001b[0m\u001b[0m\n\u001b[0m\u001b[1;32m   1194\u001b[0m \u001b[0;34m\u001b[0m\u001b[0m\n\u001b[1;32m   1195\u001b[0m     \u001b[0;32mdef\u001b[0m \u001b[0madd_section\u001b[0m\u001b[0;34m(\u001b[0m\u001b[0mself\u001b[0m\u001b[0;34m,\u001b[0m \u001b[0msection\u001b[0m\u001b[0;34m)\u001b[0m\u001b[0;34m:\u001b[0m\u001b[0;34m\u001b[0m\u001b[0;34m\u001b[0m\u001b[0m\n",
      "\u001b[0;32m/usr/lib/python3.6/configparser.py\u001b[0m in \u001b[0;36mset\u001b[0;34m(self, section, option, value)\u001b[0m\n\u001b[1;32m    899\u001b[0m                 \u001b[0msectdict\u001b[0m \u001b[0;34m=\u001b[0m \u001b[0mself\u001b[0m\u001b[0;34m.\u001b[0m\u001b[0m_sections\u001b[0m\u001b[0;34m[\u001b[0m\u001b[0msection\u001b[0m\u001b[0;34m]\u001b[0m\u001b[0;34m\u001b[0m\u001b[0;34m\u001b[0m\u001b[0m\n\u001b[1;32m    900\u001b[0m             \u001b[0;32mexcept\u001b[0m \u001b[0mKeyError\u001b[0m\u001b[0;34m:\u001b[0m\u001b[0;34m\u001b[0m\u001b[0;34m\u001b[0m\u001b[0m\n\u001b[0;32m--> 901\u001b[0;31m                 \u001b[0;32mraise\u001b[0m \u001b[0mNoSectionError\u001b[0m\u001b[0;34m(\u001b[0m\u001b[0msection\u001b[0m\u001b[0;34m)\u001b[0m \u001b[0;32mfrom\u001b[0m \u001b[0;32mNone\u001b[0m\u001b[0;34m\u001b[0m\u001b[0;34m\u001b[0m\u001b[0m\n\u001b[0m\u001b[1;32m    902\u001b[0m         \u001b[0msectdict\u001b[0m\u001b[0;34m[\u001b[0m\u001b[0mself\u001b[0m\u001b[0;34m.\u001b[0m\u001b[0moptionxform\u001b[0m\u001b[0;34m(\u001b[0m\u001b[0moption\u001b[0m\u001b[0;34m)\u001b[0m\u001b[0;34m]\u001b[0m \u001b[0;34m=\u001b[0m \u001b[0mvalue\u001b[0m\u001b[0;34m\u001b[0m\u001b[0;34m\u001b[0m\u001b[0m\n\u001b[1;32m    903\u001b[0m \u001b[0;34m\u001b[0m\u001b[0m\n",
      "\u001b[0;31mNoSectionError\u001b[0m: No section: 'calibrateThreshold'"
     ]
    }
   ],
   "source": [
    "# 读\n",
    "import configparser\n",
    "import os\n",
    " \n",
    "base_dir = str(os.getcwd())\n",
    "base_dir = base_dir.replace('\\\\', '/')\n",
    "file_path = base_dir + \"/config.ini\"\n",
    " \n",
    "cf = configparser.ConfigParser()   # configparser类来读取config文件\n",
    "cf.read(file_path)\n",
    "\n",
    "try:\n",
    "    g_calibrateThreshold = int(cf.get(\"calibrateThreshold\", \"g_calibrateThreshold\"))\n",
    "    print(g_calibrateThreshold)\n",
    "except:\n",
    "    print(\"No g_calibrateThreshold moren:\")\n",
    "    g_calibrateThreshold = 140\n",
    "    print(g_calibrateThreshold)\n",
    "try:\n",
    "    data1 = cf['calibrateXY']['g_calibrateXY']\n",
    "    g_calibrateXY = data1.split(',')\n",
    "    g_calibrateXY = list(map(int, g_calibrateXY))\n",
    "    print(g_calibrateXY)\n",
    "except:\n",
    "    g_calibrateXY = [90, 135]\n",
    "    print(\"No data1 moren:\")\n",
    "    print(g_calibrateXY)\n",
    "    \n",
    "try:    \n",
    "    data2 = cf['HSV']['g_HSV_Red']\n",
    "    g_HSV_Red = data2.split(',')\n",
    "    g_HSV_Red = list(map(int, g_HSV_Red))\n",
    "    print(g_HSV_Red)\n",
    "except:\n",
    "    g_HSV_Red = [0, 150, 160, 10, 255, 255]\n",
    "    print(\"No data2 moren\")\n",
    "    print(g_HSV_Red)\n",
    "    \n",
    "try:    \n",
    "    data3 = cf['HSV']['g_HSV_Green']\n",
    "    g_HSV_Green = data3.split(',')\n",
    "    g_HSV_Green = list(map(int, g_HSV_Green))\n",
    "    print(g_HSV_Green)\n",
    "except:\n",
    "    g_HSV_Green = [53, 80, 36, 80, 255, 160]\n",
    "    print(\"No data3 moren\")\n",
    "    print(g_HSV_Green)\n",
    "\n",
    "try:    \n",
    "    data4 = cf['HSV']['g_HSV_Blue']\n",
    "    g_HSV_Blue = data4.split(',')\n",
    "    g_HSV_Blue = list(map(int, g_HSV_Blue))\n",
    "    print(g_HSV_Blue)\n",
    "except:\n",
    "    g_HSV_Blue = [116, 124, 100, 130, 255, 255]\n",
    "    print(\"No data4 moren\")\n",
    "    print(g_HSV_Blue)\n",
    "    \n",
    "try:    \n",
    "    data5 = cf['HSV']['g_HSV_Yellow']\n",
    "    g_HSV_Yellow = data5.split(',')\n",
    "    g_HSV_Yellow = list(map(int, g_HSV_Yellow))\n",
    "    print(g_HSV_Yellow)\n",
    "except:\n",
    "    g_HSV_Yellow = [53, 80, 36, 80, 255, 160]\n",
    "    print(\"No data5 moren\")\n",
    "    print(g_HSV_Yellow)\n",
    "\n",
    "g_calibrateXY = [10,120]\n",
    "g_color_dict =  {\"red\": ((10, 150, 160), (10, 255, 255)),\n",
    "                  \"green\": ((135, 80, 36), (77, 255, 255)),\n",
    "                  \"blue\": ((210, 124, 100), (124, 251, 255)),\n",
    "                  \"yellow\": ((26, 98, 130), (134, 255, 255))}\n",
    "\n",
    "\n",
    "cf.set('calibrateThreshold', 'g_calibrateThreshold', '140')\n",
    "cf.set('calibrateXY', 'g_calibrateXY', str(\", \".join(repr(e) for e in g_calibrateXY)))\n",
    " #写入配置文件HSV\n",
    "cf.set('HSV', 'g_HSV_Red', str(\", \".join(repr(e) for e in g_color_dict[\"red\"])).replace('(', '').replace(')', ''))\n",
    "cf.set('HSV', 'g_HSV_Green', str(\", \".join(repr(e) for e in g_color_dict[\"green\"])).replace('(', '').replace(')', ''))\n",
    "cf.set('HSV', 'g_HSV_Blue', str(\", \".join(repr(e) for e in g_color_dict[\"blue\"])).replace('(', '').replace(')', ''))\n",
    "cf.set('HSV', 'g_HSV_Yellow', str(\", \".join(repr(e) for e in g_color_dict[\"yellow\"])).replace('(', '').replace(')', ''))\n",
    "with open(file_path, 'w')as conf:\n",
    "    cf.write(conf)\n",
    "with open(file_path, 'w')as conf:\n",
    "    cf.write(conf)\n"
   ]
  },
  {
   "cell_type": "code",
   "execution_count": 22,
   "metadata": {},
   "outputs": [
    {
     "name": "stdout",
     "output_type": "stream",
     "text": [
      "10, 150, 160, 10, 255, 255\n"
     ]
    }
   ],
   "source": [
    "str1 = \", \".join(repr(e) for e in g_color_dict[\"red\"])\n",
    "str1 = str1.replace('(', '').replace(')', '')\n",
    "print(str1)\n",
    "\n",
    "\n",
    "\n"
   ]
  },
  {
   "cell_type": "code",
   "execution_count": 29,
   "metadata": {},
   "outputs": [],
   "source": [
    "with open(file_path, 'w')as conf:\n",
    "    cf.write(conf)"
   ]
  },
  {
   "cell_type": "code",
   "execution_count": 30,
   "metadata": {},
   "outputs": [
    {
     "name": "stdout",
     "output_type": "stream",
     "text": [
      "配置文件创建成功！\n"
     ]
    }
   ],
   "source": [
    "file_path = \"/home/jetson/Arm/config.ini\"\n",
    "try:\n",
    "    with open(file_path, mode='r') as ff:\n",
    "        print(ff.readlines())\n",
    "except FileNotFoundError:\n",
    "    with open(file_path, mode='w') as ff:\n",
    "        print(\"配置文件创建成功！\")"
   ]
  },
  {
   "cell_type": "code",
   "execution_count": null,
   "metadata": {},
   "outputs": [],
   "source": []
  }
 ],
 "metadata": {
  "kernelspec": {
   "display_name": "Python 3",
   "language": "python",
   "name": "python3"
  },
  "language_info": {
   "codemirror_mode": {
    "name": "ipython",
    "version": 3
   },
   "file_extension": ".py",
   "mimetype": "text/x-python",
   "name": "python",
   "nbconvert_exporter": "python",
   "pygments_lexer": "ipython3",
   "version": "3.6.9"
  }
 },
 "nbformat": 4,
 "nbformat_minor": 4
}
