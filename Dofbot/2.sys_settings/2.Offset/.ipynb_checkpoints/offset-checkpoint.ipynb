{
 "cells": [
  {
   "cell_type": "code",
   "execution_count": null,
   "id": "48135f11-acac-4df5-a747-0bc5b948fb1a",
   "metadata": {},
   "outputs": [],
   "source": [
    "#!/usr/bin/env   python3\n",
    "#coding=utf-8\n",
    "import   time\n",
    "from   Arm_Lib import Arm_Device\n",
    "\n",
    "#   创建机械臂对象\n",
    "Arm   = Arm_Device()\n",
    "time.sleep(.1)"
   ]
  },
  {
   "cell_type": "code",
   "execution_count": null,
   "id": "6e9c1060-83d9-459c-af69-017acbb26975",
   "metadata": {},
   "outputs": [],
   "source": [
    "#让舵机归中直立状态\n",
    "Arm.Arm_serial_servo_write6(90, 90, 90, 90, 90, 180, 1000)\n",
    "time.sleep(2)"
   ]
  },
  {
   "cell_type": "code",
   "execution_count": null,
   "id": "542e68cb-a708-4c62-b33b-d1c9aaee0475",
   "metadata": {},
   "outputs": [],
   "source": [
    "#   关闭扭矩,此时可以用手掰动舵机的角度\n",
    "Arm.Arm_serial_set_torque(0)"
   ]
  },
  {
   "cell_type": "code",
   "execution_count": null,
   "id": "1710a9e8-4374-4553-98a7-39d2c53404db",
   "metadata": {},
   "outputs": [],
   "source": [
    "#   调节好了某个舵机的角度后，可以单独设置某个舵机中位偏差\n",
    "id   = 6\n",
    "Arm.Arm_serial_servo_write_offset_switch(id)\n",
    "time.sleep(.1)\n",
    "state   = Arm.Arm_serial_servo_write_offset_state()\n",
    "if   state == 1:\n",
    "    print(\"set offset ok!\")\n",
    "elif   state == 2:\n",
    "    print(\"error! set offset overrun   !\")\n",
    "elif   state == 0:\n",
    "    print(\"error! set offset error   !\")"
   ]
  },
  {
   "cell_type": "code",
   "execution_count": null,
   "id": "b5b7d1dc-a9a2-4f25-b865-424e872afef6",
   "metadata": {},
   "outputs": [],
   "source": [
    "#   也可以一次性设置全部舵机（1-6号）中位偏差\n",
    "for i in range(6):\n",
    "    id = i + 1\n",
    "    Arm.Arm_serial_servo_write_offset_switch(id)\n",
    "    time.sleep(.1)\n",
    "    state =   Arm.Arm_serial_servo_write_offset_state()\n",
    "    if state == 1:\n",
    "        print(\"id:%d set offset   ok!\" % id)\n",
    "    elif state == 2:\n",
    "        print(\"error!id:%d set offset   overrun !\" % id)\n",
    "    elif state == 0:\n",
    "        print(\"error!id:%d set offset   error !\" % id)"
   ]
  },
  {
   "cell_type": "code",
   "execution_count": null,
   "id": "2cee56d4-1332-4693-a8eb-2ad6885cee90",
   "metadata": {},
   "outputs": [],
   "source": [
    "#   调整完成后，打开扭矩\n",
    "Arm.Arm_serial_set_torque(1)"
   ]
  },
  {
   "cell_type": "code",
   "execution_count": null,
   "id": "33e16c16-3f48-4608-b5fb-fb368d7d518c",
   "metadata": {},
   "outputs": [],
   "source": [
    "#   清除所有舵机设置的中位偏差，恢复默认状态.\n",
    "#   如果需要清除所有舵机的中位偏差，请删除下方的#再运行此单元\n",
    "#Arm.Arm_serial_servo_write_offset_switch(0)"
   ]
  },
  {
   "cell_type": "code",
   "execution_count": null,
   "id": "dcef6ddf-d5a9-4fe4-bdde-b33c999f3508",
   "metadata": {},
   "outputs": [],
   "source": [
    "del   Arm  # 释放掉Arm对象"
   ]
  },
  {
   "cell_type": "code",
   "execution_count": null,
   "id": "d123d6f0-75f4-4c29-9066-298b51fed519",
   "metadata": {},
   "outputs": [],
   "source": []
  }
 ],
 "metadata": {
  "kernelspec": {
   "display_name": "Python 3 (ipykernel)",
   "language": "python",
   "name": "python3"
  },
  "language_info": {
   "codemirror_mode": {
    "name": "ipython",
    "version": 3
   },
   "file_extension": ".py",
   "mimetype": "text/x-python",
   "name": "python",
   "nbconvert_exporter": "python",
   "pygments_lexer": "ipython3",
   "version": "3.8.0"
  }
 },
 "nbformat": 4,
 "nbformat_minor": 5
}
