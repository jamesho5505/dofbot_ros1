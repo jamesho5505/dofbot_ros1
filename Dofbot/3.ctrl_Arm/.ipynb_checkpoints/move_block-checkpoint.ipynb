{
 "cells": [
  {
   "cell_type": "code",
   "execution_count": 1,
   "metadata": {},
   "outputs": [],
   "source": [
    "#!/usr/bin/env python3\n",
    "#coding=utf-8\n",
    "import time\n",
    "from Arm_Lib import Arm_Device\n",
    "\n",
    "# 创建机械臂对象\n",
    "Arm = Arm_Device()\n",
    "time.sleep(.1)"
   ]
  },
  {
   "cell_type": "code",
   "execution_count": 2,
   "metadata": {},
   "outputs": [],
   "source": [
    "# 定义夹积木块函数，enable=1：夹住，=0：松开\n",
    "def arm_clamp_block(enable):\n",
    "    if enable == 0:\n",
    "        Arm.Arm_serial_servo_write(6, 100, 400)\n",
    "    else:\n",
    "        Arm.Arm_serial_servo_write(6, 155, 400)\n",
    "    time.sleep(.5)\n",
    "\n",
    "    \n",
    "# 定义移动机械臂函数,同时控制1-5号舵机运动，p=[S1,S2,S3,S4,S5]\n",
    "def arm_move(p, s_time = 500):\n",
    "    for i in range(5):\n",
    "        id = i + 1\n",
    "        if id == 5:\n",
    "            time.sleep(.1)\n",
    "            Arm.Arm_serial_servo_write(id, p[i], int(s_time*1.2))\n",
    "        else :\n",
    "            Arm.Arm_serial_servo_write(id, p[i], s_time)\n",
    "        time.sleep(.01)\n",
    "    time.sleep(s_time/1000)\n",
    "\n",
    "# 机械臂向上移动\n",
    "def arm_move_up():\n",
    "    Arm.Arm_serial_servo_write(2, 90, 1000)\n",
    "    Arm.Arm_serial_servo_write(3, 90, 1000)\n",
    "    Arm.Arm_serial_servo_write(4, 90, 1000)\n",
    "    time.sleep(.2)\n"
   ]
  },
  {
   "cell_type": "code",
   "execution_count": 3,
   "metadata": {},
   "outputs": [],
   "source": [
    "# 定义不同位置的变量参数\n",
    "p_mould = [90, 130, 0, 0, 90]\n",
    "p_top = [90, 80, 50, 50, 270]\n",
    "p_Brown = [90, 53, 33, 36, 270]\n",
    "\n",
    "p_Yellow = [66, 28, 60, 53, 270]\n",
    "p_Red = [120, 23, 55, 59, 270]\n",
    "\n",
    "p_Green = [137, 63, 26, 20, 270]\n",
    "p_Blue = [46, 66, 20, 29, 265]\n",
    "\n",
    "p_layer_4 = [91, 76, 48, 11, 270]\n",
    "p_layer_3 = [90, 66, 45, 16, 270]\n",
    "p_layer_2 = [90, 71, 26, 30, 270]\n"
   ]
  },
  {
   "cell_type": "code",
   "execution_count": 4,
   "metadata": {},
   "outputs": [],
   "source": [
    "# 让机械臂移动到一个准备抓取的位置\n",
    "arm_clamp_block(0)\n",
    "arm_move(p_mould, 1000)\n",
    "time.sleep(1)\n"
   ]
  },
  {
   "cell_type": "code",
   "execution_count": 5,
   "metadata": {},
   "outputs": [],
   "source": [
    "# 搬运第四层的积木块到黄色区域\n",
    "arm_move(p_top, 1000)\n",
    "arm_move(p_layer_4, 1000)\n",
    "arm_clamp_block(1)\n",
    "\n",
    "arm_move(p_top, 1000)\n",
    "arm_move(p_Yellow, 1000)\n",
    "arm_clamp_block(0)\n",
    "\n",
    "time.sleep(.1)\n",
    "\n",
    "arm_move_up()\n",
    "arm_move(p_mould, 1100)\n",
    "    \n",
    "# time.sleep(1)\n"
   ]
  },
  {
   "cell_type": "code",
   "execution_count": 6,
   "metadata": {},
   "outputs": [],
   "source": [
    "# 搬运第三层的积木块到红色区域\n",
    "arm_move(p_top, 1000)\n",
    "arm_move(p_layer_3, 1000)\n",
    "arm_clamp_block(1)\n",
    "\n",
    "arm_move(p_top, 1000)\n",
    "arm_move(p_Red, 1000)\n",
    "arm_clamp_block(0)\n",
    "\n",
    "time.sleep(.1)\n",
    "\n",
    "arm_move_up()\n",
    "arm_move(p_mould, 1100)\n",
    "    \n",
    "# time.sleep(1)\n"
   ]
  },
  {
   "cell_type": "code",
   "execution_count": 7,
   "metadata": {},
   "outputs": [],
   "source": [
    "# 搬运第二层的积木块到绿色区域\n",
    "arm_move(p_top, 1000)\n",
    "arm_move(p_layer_2, 1000)\n",
    "arm_clamp_block(1)\n",
    "\n",
    "arm_move(p_top, 1000)\n",
    "arm_move(p_Green, 1000)\n",
    "arm_clamp_block(0)\n",
    "\n",
    "time.sleep(.1)\n",
    "\n",
    "arm_move_up()\n",
    "arm_move(p_mould, 1100)\n",
    "    \n",
    "# time.sleep(1)\n"
   ]
  },
  {
   "cell_type": "code",
   "execution_count": 8,
   "metadata": {},
   "outputs": [],
   "source": [
    "# 搬运第二层的积木块到绿色区域\n",
    "arm_move(p_top, 1000)\n",
    "arm_move(p_Brown, 1000)\n",
    "arm_clamp_block(1)\n",
    "\n",
    "arm_move(p_top, 1000)\n",
    "arm_move(p_Blue, 1000)\n",
    "arm_clamp_block(0)\n",
    "\n",
    "time.sleep(.1)\n",
    "\n",
    "arm_move_up()\n",
    "arm_move(p_mould, 1100)\n",
    "    \n",
    "# time.sleep(1)"
   ]
  },
  {
   "cell_type": "code",
   "execution_count": 9,
   "metadata": {},
   "outputs": [],
   "source": [
    "del Arm  # 释放掉Arm对象"
   ]
  }
 ],
 "metadata": {
  "kernelspec": {
   "display_name": "Python 3",
   "language": "python",
   "name": "python3"
  },
  "language_info": {
   "codemirror_mode": {
    "name": "ipython",
    "version": 3
   },
   "file_extension": ".py",
   "mimetype": "text/x-python",
   "name": "python",
   "nbconvert_exporter": "python",
   "pygments_lexer": "ipython3",
   "version": "3.8.5"
  }
 },
 "nbformat": 4,
 "nbformat_minor": 4
}
