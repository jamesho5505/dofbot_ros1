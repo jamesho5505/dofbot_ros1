{
 "cells": [
  {
   "cell_type": "code",
   "execution_count": null,
   "metadata": {},
   "outputs": [],
   "source": [
    "#!/usr/bin/env python3\n",
    "#coding=utf-8\n",
    "import time\n",
    "from Arm_Lib import Arm_Device\n",
    "\n",
    "# 创建机械臂对象\n",
    "Arm = Arm_Device()\n",
    "time.sleep(.1)\n"
   ]
  },
  {
   "cell_type": "code",
   "execution_count": null,
   "metadata": {},
   "outputs": [],
   "source": [
    "id = 1\n",
    "Arm.Arm_serial_set_id(id) # 设置当前连接的舵机的ID为1\n",
    "time.sleep(.1)\n",
    "value = Arm.Arm_ping_servo(id) # 查看舵机的状态\n",
    "print(hex(value))\n",
    "\n",
    "if value == 0xda:\n",
    "    print('Set_Servo_ID OK')\n",
    "    angle = Arm.Arm_serial_servo_read_any(id)\n",
    "    print('angle=%d' % angle)\n",
    "else:\n",
    "    print('Set_Servo_ID Error')\n"
   ]
  },
  {
   "cell_type": "code",
   "execution_count": null,
   "metadata": {},
   "outputs": [],
   "source": [
    "del Arm  # 释放掉Arm对象"
   ]
  }
 ],
 "metadata": {
  "kernelspec": {
   "display_name": "Python 3",
   "language": "python",
   "name": "python3"
  },
  "language_info": {
   "codemirror_mode": {
    "name": "ipython",
    "version": 3
   },
   "file_extension": ".py",
   "mimetype": "text/x-python",
   "name": "python",
   "nbconvert_exporter": "python",
   "pygments_lexer": "ipython3",
   "version": "3.8.5"
  }
 },
 "nbformat": 4,
 "nbformat_minor": 4
}
