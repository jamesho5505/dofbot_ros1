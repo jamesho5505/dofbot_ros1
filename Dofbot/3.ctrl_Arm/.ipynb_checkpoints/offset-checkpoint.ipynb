{
 "cells": [
  {
   "cell_type": "code",
   "execution_count": 1,
   "metadata": {},
   "outputs": [],
   "source": [
    "#!/usr/bin/env python3\n",
    "#coding=utf-8\n",
    "import time\n",
    "from Arm_Lib import Arm_Device\n",
    "\n",
    "\n",
    "Arm = Arm_Device()\n",
    "time.sleep(.1)\n",
    "\n",
    "'''关闭扭矩'''\n",
    "Arm.Arm_serial_set_torque(0)\n"
   ]
  },
  {
   "cell_type": "code",
   "execution_count": 2,
   "metadata": {},
   "outputs": [
    {
     "name": "stdout",
     "output_type": "stream",
     "text": [
      "set offset ok!\n"
     ]
    }
   ],
   "source": [
    "#!/usr/bin/env python3\n",
    "#coding=utf-8\n",
    "import time\n",
    "from Arm_Lib import Arm_Device\n",
    "\n",
    "\n",
    "Arm = Arm_Device()\n",
    "time.sleep(.1)\n",
    "\n",
    "\n",
    "'''单独设置某个舵机中位偏差'''\n",
    "id = 1\n",
    "Arm.Arm_serial_servo_write_offset_switch(id)\n",
    "time.sleep(.1)\n",
    "state = Arm.Arm_serial_servo_write_offset_state()\n",
    "if state == 1:\n",
    "    print(\"set offset ok!\")\n",
    "elif state == 2:\n",
    "    print(\"error! set offset overrun !\")\n",
    "elif state == 0:\n",
    "    print(\"error! set offset error !\")\n"
   ]
  },
  {
   "cell_type": "code",
   "execution_count": 3,
   "metadata": {},
   "outputs": [
    {
     "name": "stdout",
     "output_type": "stream",
     "text": [
      "id:1 set offset ok!\n",
      "id:2 set offset ok!\n",
      "id:3 set offset ok!\n",
      "id:4 set offset ok!\n",
      "error!id:5 set offset overrun !\n",
      "id:6 set offset ok!\n"
     ]
    }
   ],
   "source": [
    "#!/usr/bin/env python3\n",
    "#coding=utf-8\n",
    "import time\n",
    "from Arm_Lib import Arm_Device\n",
    "\n",
    "\n",
    "Arm = Arm_Device()\n",
    "time.sleep(.1)\n",
    "\n",
    "\n",
    "'''一次性设置全部舵机（1-6号）中位偏差'''\n",
    "for i in range(6):\n",
    "    id = i + 1\n",
    "    Arm.Arm_serial_servo_write_offset_switch(id)\n",
    "    time.sleep(.1)\n",
    "    state = Arm.Arm_serial_servo_write_offset_state()\n",
    "    if state == 1:\n",
    "        print(\"id:%d set offset ok!\" % id)\n",
    "    elif state == 2:\n",
    "        print(\"error!id:%d set offset overrun !\" % id)\n",
    "    elif state == 0:\n",
    "        print(\"error!id:%d set offset error !\" % id)\n"
   ]
  },
  {
   "cell_type": "code",
   "execution_count": 6,
   "metadata": {},
   "outputs": [],
   "source": [
    "#!/usr/bin/env python3\n",
    "#coding=utf-8\n",
    "import time\n",
    "from Arm_Lib import Arm_Device\n",
    "\n",
    "\n",
    "Arm = Arm_Device()\n",
    "time.sleep(.1)\n",
    "\n",
    "'''打开扭矩'''\n",
    "Arm.Arm_serial_set_torque(1)\n"
   ]
  },
  {
   "cell_type": "code",
   "execution_count": 1,
   "metadata": {},
   "outputs": [],
   "source": [
    "#!/usr/bin/env python3\n",
    "#coding=utf-8\n",
    "import time\n",
    "from Arm_Lib import Arm_Device\n",
    "\n",
    "\n",
    "Arm = Arm_Device()\n",
    "time.sleep(.1)\n",
    "\n",
    "\n",
    "'''清除舵机中位偏差，恢复默认状态'''\n",
    "Arm.Arm_serial_servo_write_offset_switch(0)\n"
   ]
  },
  {
   "cell_type": "code",
   "execution_count": 2,
   "metadata": {},
   "outputs": [],
   "source": [
    "#!/usr/bin/env python3\n",
    "#coding=utf-8\n",
    "import time\n",
    "from Arm_Lib import Arm_Device\n",
    "\n",
    "\n",
    "Arm = Arm_Device()\n",
    "time.sleep(.1)\n",
    "\n",
    "\n",
    "# 让舵机复位归中\n",
    "Arm.Arm_serial_servo_write6(90, 90, 90, 90, 90, 90, 500)\n",
    "time.sleep(1)\n"
   ]
  },
  {
   "cell_type": "code",
   "execution_count": null,
   "metadata": {},
   "outputs": [],
   "source": []
  }
 ],
 "metadata": {
  "kernelspec": {
   "display_name": "Python 3",
   "language": "python",
   "name": "python3"
  },
  "language_info": {
   "codemirror_mode": {
    "name": "ipython",
    "version": 3
   },
   "file_extension": ".py",
   "mimetype": "text/x-python",
   "name": "python",
   "nbconvert_exporter": "python",
   "pygments_lexer": "ipython3",
   "version": "3.8.5"
  }
 },
 "nbformat": 4,
 "nbformat_minor": 4
}
