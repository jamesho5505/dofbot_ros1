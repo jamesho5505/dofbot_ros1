{
 "cells": [
  {
   "cell_type": "code",
   "execution_count": null,
   "metadata": {},
   "outputs": [],
   "source": [
    "#!/usr/bin/env python3\n",
    "#coding=utf-8\n",
    "import time\n",
    "from Arm_Lib import Arm_Device\n",
    "\n",
    "# 创建机械臂对象\n",
    "Arm = Arm_Device()\n",
    "time.sleep(.1)\n"
   ]
  },
  {
   "cell_type": "code",
   "execution_count": null,
   "metadata": {},
   "outputs": [],
   "source": [
    "# 循环控制机械臂上下左右摆动\n",
    "def main():\n",
    "    # 让舵机复位归中\n",
    "    Arm.Arm_serial_servo_write6(90, 90, 90, 90, 90, 90, 500)\n",
    "    time.sleep(1)\n",
    "\n",
    "\n",
    "    while True:\n",
    "        # 控制3号和4号舵机上下运行\n",
    "        Arm.Arm_serial_servo_write(3, 0, 1000)\n",
    "        time.sleep(.001)\n",
    "        Arm.Arm_serial_servo_write(4, 180, 1000)\n",
    "        time.sleep(1)\n",
    "        \n",
    "        # 控制1号舵机左右运动\n",
    "        Arm.Arm_serial_servo_write(1, 180, 500)\n",
    "        time.sleep(.5)\n",
    "        Arm.Arm_serial_servo_write(1, 0, 1000)\n",
    "        time.sleep(1)\n",
    "        \n",
    "        # 控制舵机恢复初始位置\n",
    "        Arm.Arm_serial_servo_write6(90, 90, 90, 90, 90, 90, 1000)\n",
    "        time.sleep(1.5)\n",
    "\n",
    "\n",
    "try :\n",
    "    main()\n",
    "except KeyboardInterrupt:\n",
    "    print(\" Program closed! \")\n",
    "    pass\n"
   ]
  },
  {
   "cell_type": "code",
   "execution_count": null,
   "metadata": {},
   "outputs": [],
   "source": [
    "del Arm  # 释放掉Arm对象"
   ]
  }
 ],
 "metadata": {
  "kernelspec": {
   "display_name": "Python 3",
   "language": "python",
   "name": "python3"
  },
  "language_info": {
   "codemirror_mode": {
    "name": "ipython",
    "version": 3
   },
   "file_extension": ".py",
   "mimetype": "text/x-python",
   "name": "python",
   "nbconvert_exporter": "python",
   "pygments_lexer": "ipython3",
   "version": "3.8.5"
  }
 },
 "nbformat": 4,
 "nbformat_minor": 4
}
