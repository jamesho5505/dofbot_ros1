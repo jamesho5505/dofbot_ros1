{
 "cells": [
  {
   "cell_type": "markdown",
   "metadata": {},
   "source": [
    "<center><img src=\"../logo.png\" alt=\"Header\" style=\"width: 800px;\"/></center>"
   ]
  },
  {
   "cell_type": "markdown",
   "metadata": {},
   "source": [
    "@Copyright (C): 2010-2022, Shenzhen Yahboom Tech  \n",
    "@Author: Liusen  \n",
    "@Date: 2020-02-19 17:18:00  \n",
    "@LastEditors: Liusen  \n",
    "@LastEditTime: 2020-02-19 17:18:00  "
   ]
  },
  {
   "cell_type": "markdown",
   "metadata": {},
   "source": [
    "# Grayscale histogram equalization"
   ]
  },
  {
   "cell_type": "code",
   "execution_count": null,
   "metadata": {},
   "outputs": [],
   "source": [
    "\n",
    "import cv2\n",
    "import numpy as np\n",
    "import matplotlib.pyplot as plt\n",
    "\n",
    "\n",
    "img = cv2.imread('yahboom.jpg',1)\n",
    "gray = cv2.cvtColor(img,cv2.COLOR_BGR2GRAY)\n",
    "#cv2.imshow('src',gray)\n",
    "dst = cv2.equalizeHist(gray)\n",
    "#cv2.imshow('dst',dst)\n",
    "#cv2.waitKey(0)\n",
    "\n",
    "\n",
    "gray = cv2.cvtColor(gray, cv2.COLOR_BGR2RGB)\n",
    "dst = cv2.cvtColor(dst, cv2.COLOR_BGR2RGB)\n",
    "#plt绘制前后两张图片显示效果\n",
    "#源图显示\n",
    "plt.figure(figsize=(14, 9), dpi=100)#设置绘图区域的大小和像素\n",
    "plt.subplot(121)  # 一行两列第一个\n",
    "plt.imshow(gray)\n",
    "\n",
    "#灰度 直方图均衡化\n",
    "plt.subplot(122)  # 一行两列第二个\n",
    "plt.imshow(dst)\n",
    "\n",
    "plt.show()\n",
    " "
   ]
  },
  {
   "cell_type": "markdown",
   "metadata": {},
   "source": [
    "# Color histogram equalization"
   ]
  },
  {
   "cell_type": "code",
   "execution_count": null,
   "metadata": {},
   "outputs": [],
   "source": [
    "\n",
    "import cv2\n",
    "import numpy as np\n",
    "img = cv2.imread('yahboom.jpg',1)\n",
    "# cv2.imshow('src',img)\n",
    "(b,g,r) = cv2.split(img)#通道分解\n",
    "bH = cv2.equalizeHist(b)\n",
    "gH = cv2.equalizeHist(g)\n",
    "rH = cv2.equalizeHist(r)\n",
    "result = cv2.merge((bH,gH,rH))# 通道合成\n",
    "# cv2.imshow('dst',result)\n",
    "# cv2.waitKey(0)\n",
    "\n",
    "img = cv2.cvtColor(img, cv2.COLOR_BGR2RGB)\n",
    "dst = cv2.cvtColor(dst, cv2.COLOR_BGR2RGB)\n",
    "#plt绘制前后两张图片显示效果\n",
    "plt.figure(figsize=(14, 9), dpi=100)#设置绘图区域的大小和像素\n",
    "plt.subplot(121)  # 一行两列第一个\n",
    "plt.imshow(img)\n",
    "plt.subplot(122)  # 一行两列第二个\n",
    "#彩色 直方图均衡化\n",
    "plt.imshow(dst)\n",
    "plt.show()"
   ]
  },
  {
   "cell_type": "markdown",
   "metadata": {},
   "source": [
    "# YUV histogram equalization"
   ]
  },
  {
   "cell_type": "code",
   "execution_count": null,
   "metadata": {},
   "outputs": [],
   "source": [
    "\n",
    "import cv2\n",
    "import numpy as np\n",
    "img = cv2.imread('yahboom.jpg',1)\n",
    "imgYUV = cv2.cvtColor(img,cv2.COLOR_BGR2YCrCb)\n",
    "# cv2.imshow('src',img)\n",
    "channelYUV = cv2.split(imgYUV)\n",
    "channelYUV[0] = cv2.equalizeHist(channelYUV[0])\n",
    "channels = cv2.merge(channelYUV)\n",
    "result = cv2.cvtColor(channels,cv2.COLOR_YCrCb2BGR)\n",
    "# cv2.imshow('dst',result)\n",
    "# cv2.waitKey(0)\n",
    "\n",
    "\n",
    "imgYUV = cv2.cvtColor(imgYUV, cv2.COLOR_BGR2RGB)\n",
    "result = cv2.cvtColor(result, cv2.COLOR_BGR2RGB)\n",
    "#plt绘制前后两张图片显示效果\n",
    "plt.figure(figsize=(14, 9), dpi=100)#设置绘图区域的大小和像素\n",
    "plt.subplot(121)  # 一行两列第一个\n",
    "plt.imshow(imgYUV)\n",
    "plt.subplot(122)  # 一行两列第二个\n",
    "#彩色 直方图均衡化\n",
    "plt.imshow(result)\n",
    "plt.show()"
   ]
  },
  {
   "cell_type": "code",
   "execution_count": null,
   "metadata": {},
   "outputs": [],
   "source": []
  }
 ],
 "metadata": {
  "kernelspec": {
   "display_name": "Python 3 (ipykernel)",
   "language": "python",
   "name": "python3"
  },
  "language_info": {
   "codemirror_mode": {
    "name": "ipython",
    "version": 3
   },
   "file_extension": ".py",
   "mimetype": "text/x-python",
   "name": "python",
   "nbconvert_exporter": "python",
   "pygments_lexer": "ipython3",
   "version": "3.8.0"
  }
 },
 "nbformat": 4,
 "nbformat_minor": 4
}
